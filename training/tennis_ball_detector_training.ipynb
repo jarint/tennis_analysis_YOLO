{
 "cells": [
  {
   "cell_type": "code",
   "execution_count": null,
   "id": "22de2e83",
   "metadata": {
    "vscode": {
     "languageId": "plaintext"
    }
   },
   "outputs": [],
   "source": [
    "# Download data (code from roboflow) - not working ill have a solution soon!"
   ]
  }
 ],
 "metadata": {
  "language_info": {
   "name": "python"
  }
 },
 "nbformat": 4,
 "nbformat_minor": 5
}
